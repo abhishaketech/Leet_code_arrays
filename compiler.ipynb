{
 "cells": [
  {
   "cell_type": "code",
   "execution_count": 19,
   "id": "1f75555a-b8ab-4175-971e-5c18108b9249",
   "metadata": {},
   "outputs": [
    {
     "name": "stdout",
     "output_type": "stream",
     "text": [
      "4\n",
      "2\n",
      "1\n",
      "5\n"
     ]
    }
   ],
   "source": [
    "list=[4,2,1,5]\n",
    "my_iter=iter(list)\n",
    "for i in range(len(list)+1):\n",
    "    try:\n",
    "        print(next(my_iter))\n",
    "    except StopIteration:\n",
    "        break"
   ]
  },
  {
   "cell_type": "code",
   "execution_count": 5,
   "id": "51772e8f-e218-4373-b0b1-02483f1876cf",
   "metadata": {},
   "outputs": [
    {
     "name": "stdout",
     "output_type": "stream",
     "text": [
      "2\n"
     ]
    }
   ],
   "source": [
    "print(next(my_iter))"
   ]
  },
  {
   "cell_type": "code",
   "execution_count": 9,
   "id": "3aa42fcd-d85d-44b1-b9f9-7a728e9aa90e",
   "metadata": {},
   "outputs": [
    {
     "name": "stdout",
     "output_type": "stream",
     "text": [
      "{1: 2, 4: 1, 2: 4, 3: 3}\n"
     ]
    }
   ],
   "source": [
    "arr=[1,4,2,3,2,3,2,1,2,3]\n",
    "freq={}\n",
    "for num in arr:\n",
    "    freq[num]=freq.get(num,0)+1\n",
    "print(freq)"
   ]
  },
  {
   "cell_type": "code",
   "execution_count": 15,
   "id": "234656e6-bb2b-4fa9-922e-3ddc2e2b6886",
   "metadata": {},
   "outputs": [
    {
     "name": "stdout",
     "output_type": "stream",
     "text": [
      "[1, 1, 2, 2, 2, 2, 3, 3, 3, 4]\n"
     ]
    }
   ],
   "source": [
    "#sorting the array\n",
    "arr=[1,4,2,3,2,3,2,1,2,3]\n",
    "temp=0\n",
    "for i in range(len(arr)):\n",
    "    for j in range(len(arr)):\n",
    "        if arr[i]<=arr[j]:\n",
    "            temp=arr[j]\n",
    "            arr[j]=arr[i]\n",
    "            arr[i]=temp\n",
    "print(arr)\n",
    "\n",
    "            \n",
    "        \n"
   ]
  },
  {
   "cell_type": "code",
   "execution_count": 41,
   "id": "2232260d-2862-44c1-9b79-75636104642c",
   "metadata": {},
   "outputs": [
    {
     "name": "stdout",
     "output_type": "stream",
     "text": [
      "abhishakeisthegreatboyatthecodingandheistheconfidentboy!\n"
     ]
    }
   ],
   "source": [
    "s=\"abhishake is the great boy at the coding and he is the confident boy !\"\n",
    "num=0\n",
    "s=s.replace(\" \",\"\")\n",
    "for char in s:\n",
    "    num=num+ord(char)\n",
    "print(s)\n",
    "\n",
    "    "
   ]
  },
  {
   "cell_type": "code",
   "execution_count": 59,
   "id": "9c8ebf01-4523-4574-bd68-d9c828c8b54c",
   "metadata": {},
   "outputs": [
    {
     "name": "stdout",
     "output_type": "stream",
     "text": [
      "0\n"
     ]
    }
   ],
   "source": [
    "prices = [7,6,4]\n",
    "sum=0\n",
    "for i in range(len(prices)):\n",
    "    for j in range(i+1,len(prices)):\n",
    "        if prices[i]<prices[j] and sum<abs(prices[i]-prices[j]):\n",
    "            sum=abs(prices[i]-prices[j])\n",
    "print(sum)\n",
    "        \n",
    "            "
   ]
  },
  {
   "cell_type": "code",
   "execution_count": null,
   "id": "cb589d68-9eb6-462d-88ea-de1cf1ddb512",
   "metadata": {},
   "outputs": [],
   "source": []
  }
 ],
 "metadata": {
  "kernelspec": {
   "display_name": "Python 3 (ipykernel)",
   "language": "python",
   "name": "python3"
  },
  "language_info": {
   "codemirror_mode": {
    "name": "ipython",
    "version": 3
   },
   "file_extension": ".py",
   "mimetype": "text/x-python",
   "name": "python",
   "nbconvert_exporter": "python",
   "pygments_lexer": "ipython3",
   "version": "3.12.7"
  }
 },
 "nbformat": 4,
 "nbformat_minor": 5
}
